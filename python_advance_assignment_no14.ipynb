{
  "nbformat": 4,
  "nbformat_minor": 0,
  "metadata": {
    "colab": {
      "provenance": []
    },
    "kernelspec": {
      "name": "python3",
      "display_name": "Python 3"
    },
    "language_info": {
      "name": "python"
    }
  },
  "cells": [
    {
      "cell_type": "code",
      "execution_count": 1,
      "metadata": {
        "id": "LuwFu4UL-Rmv"
      },
      "outputs": [],
      "source": [
        "# Ans no 1:-A=A+1 evaluates to finding A, adding 1 to it. Then storing the value again in variable A. This expression makes Python to look for memory\n",
        "#           holder of a twice. But A+=1 simply means value of A is to incremented by 1. As memory address has to be identified once, += leads to faster\n",
        "#           operation."
      ]
    },
    {
      "cell_type": "code",
      "source": [
        "# Ans no 2:- Minimum number of lines required to write above code in languages other Python will be 4, two for assigning initial values for variables\n",
        "#           a and b, and two for reassignment i.e. a=a+b and b=a."
      ],
      "metadata": {
        "id": "_DT9LV1j-ikZ"
      },
      "execution_count": 2,
      "outputs": []
    },
    {
      "cell_type": "code",
      "source": [
        "# Ans no 3:- The Most effective way to set a list of 100 integers to 0 in python is by using repition operator(*) or by using list comprehension.\n",
        "\n",
        "# Method 1\n",
        "list_zero=[0]*100\n",
        "print(list_zero)\n",
        "# Method 2\n",
        "zero_list = [0 for x in range(100)]\n",
        "print(zero_list)"
      ],
      "metadata": {
        "colab": {
          "base_uri": "https://localhost:8080/"
        },
        "id": "AbVtFIzy-rAg",
        "outputId": "3ebaebaf-b069-4767-9fb4-400b66cc5951"
      },
      "execution_count": 3,
      "outputs": [
        {
          "output_type": "stream",
          "name": "stdout",
          "text": [
            "[0, 0, 0, 0, 0, 0, 0, 0, 0, 0, 0, 0, 0, 0, 0, 0, 0, 0, 0, 0, 0, 0, 0, 0, 0, 0, 0, 0, 0, 0, 0, 0, 0, 0, 0, 0, 0, 0, 0, 0, 0, 0, 0, 0, 0, 0, 0, 0, 0, 0, 0, 0, 0, 0, 0, 0, 0, 0, 0, 0, 0, 0, 0, 0, 0, 0, 0, 0, 0, 0, 0, 0, 0, 0, 0, 0, 0, 0, 0, 0, 0, 0, 0, 0, 0, 0, 0, 0, 0, 0, 0, 0, 0, 0, 0, 0, 0, 0, 0, 0]\n",
            "[0, 0, 0, 0, 0, 0, 0, 0, 0, 0, 0, 0, 0, 0, 0, 0, 0, 0, 0, 0, 0, 0, 0, 0, 0, 0, 0, 0, 0, 0, 0, 0, 0, 0, 0, 0, 0, 0, 0, 0, 0, 0, 0, 0, 0, 0, 0, 0, 0, 0, 0, 0, 0, 0, 0, 0, 0, 0, 0, 0, 0, 0, 0, 0, 0, 0, 0, 0, 0, 0, 0, 0, 0, 0, 0, 0, 0, 0, 0, 0, 0, 0, 0, 0, 0, 0, 0, 0, 0, 0, 0, 0, 0, 0, 0, 0, 0, 0, 0, 0]\n"
          ]
        }
      ]
    },
    {
      "cell_type": "code",
      "source": [
        "# Ans no 4:-\n",
        "my_list = [1,2,3]*33\n",
        "print(my_list)"
      ],
      "metadata": {
        "colab": {
          "base_uri": "https://localhost:8080/"
        },
        "id": "s_9Ycfgr-x8h",
        "outputId": "2a8b9a41-2276-4568-96d2-dbc2e8cb6635"
      },
      "execution_count": 4,
      "outputs": [
        {
          "output_type": "stream",
          "name": "stdout",
          "text": [
            "[1, 2, 3, 1, 2, 3, 1, 2, 3, 1, 2, 3, 1, 2, 3, 1, 2, 3, 1, 2, 3, 1, 2, 3, 1, 2, 3, 1, 2, 3, 1, 2, 3, 1, 2, 3, 1, 2, 3, 1, 2, 3, 1, 2, 3, 1, 2, 3, 1, 2, 3, 1, 2, 3, 1, 2, 3, 1, 2, 3, 1, 2, 3, 1, 2, 3, 1, 2, 3, 1, 2, 3, 1, 2, 3, 1, 2, 3, 1, 2, 3, 1, 2, 3, 1, 2, 3, 1, 2, 3, 1, 2, 3, 1, 2, 3, 1, 2, 3]\n"
          ]
        }
      ]
    },
    {
      "cell_type": "code",
      "source": [
        "# Ans no 5:-\n",
        "my_list = [[1,1],[2,2],[3,3],[4,4],[5,5]] # 2 dimensional List\n",
        "for x in range(len(my_list)):\n",
        "    for y in range(len(my_list[x])):\n",
        "        print(my_list[x][y],end=\" \")"
      ],
      "metadata": {
        "colab": {
          "base_uri": "https://localhost:8080/"
        },
        "id": "PgOf6bh1-2pK",
        "outputId": "d9a41a11-2eba-446b-e6f9-0cf62a2bfaed"
      },
      "execution_count": 5,
      "outputs": [
        {
          "output_type": "stream",
          "name": "stdout",
          "text": [
            "1 1 2 2 3 3 4 4 5 5 "
          ]
        }
      ]
    },
    {
      "cell_type": "code",
      "source": [
        "# Ans no 6:-\n",
        "# List comprehension with string is possible.\n",
        "\n",
        "my_list = [ele for ele in 'iNeuron']\n",
        "print(my_list)"
      ],
      "metadata": {
        "colab": {
          "base_uri": "https://localhost:8080/"
        },
        "id": "ccKxfeIK-8KW",
        "outputId": "285b61eb-9e50-4f30-e957-d508932e2ceb"
      },
      "execution_count": 7,
      "outputs": [
        {
          "output_type": "stream",
          "name": "stdout",
          "text": [
            "['i', 'N', 'e', 'u', 'r', 'o', 'n']\n"
          ]
        }
      ]
    },
    {
      "cell_type": "code",
      "source": [
        "# Ans no 7:-Get support with a user-written Python Programme: Start a command prompt (Windows) or terminal window (Linux/Mac). If the current working\n",
        "#          directory is the same as the location in which you saved the file, you can simply specify the filename as a command-line argument to the Python\n",
        "#          interpreter.\n",
        "\n",
        "#         Get support with a User-written Python Program from IDLE: You can also create script files and run them in IDLE. From the Shell window menu,\n",
        "#         select File → New File. That should open an additional editing window. Type in the code to be executed. From the menu in that window, select\n",
        "#          File → Save or File → Save As… and save the file to disk. Then select Run → Run Module. The output should appear back in the interpreter"
      ],
      "metadata": {
        "id": "8n0Z26IL_C2J"
      },
      "execution_count": 8,
      "outputs": []
    },
    {
      "cell_type": "code",
      "source": [
        "# Ans no 8:- The tasks which can be performed with the functions in python are:\n",
        "\n",
        "# A function is an instance of the Object type.\n",
        "# You can store the function in a variable.\n",
        "# You can pass the function as a parameter to another function.\n",
        "# You can return the function from a function.\n",
        "# You can store them in data structures such as hash tables, lists,"
      ],
      "metadata": {
        "id": "yuJkugfc_Vv5"
      },
      "execution_count": 9,
      "outputs": []
    },
    {
      "cell_type": "code",
      "source": [
        "# Ans no 9:- Wrappers Around the functions are known as Decrators."
      ],
      "metadata": {
        "id": "u8rsxa0O_eko"
      },
      "execution_count": 10,
      "outputs": []
    },
    {
      "cell_type": "code",
      "source": [
        "# Ans no 10:- Generator functions are a special kind of function that return a lazy iterator. These are objects that you can loop over like a list.\n",
        "#             However, unlike lists, lazy iterators do not store their contents in memory."
      ],
      "metadata": {
        "id": "WFUn0L9w_i6o"
      },
      "execution_count": 11,
      "outputs": []
    },
    {
      "cell_type": "code",
      "source": [
        "# Ans no 11:-Generator is a written as normal function but uses yield keyword to return values instead of return keyword."
      ],
      "metadata": {
        "id": "yx9e1eD9_rEh"
      },
      "execution_count": 12,
      "outputs": []
    },
    {
      "cell_type": "code",
      "source": [
        "# Ans no 12:-return statement sends a specified value back to its caller whereas yield statment can produce a sequence of values. We should use generator\n",
        "#           when we want to iterate over a sequence, but don’t want to store the entire sequence in memory."
      ],
      "metadata": {
        "id": "Zt37fPGQ_wNi"
      },
      "execution_count": 13,
      "outputs": []
    }
  ]
}