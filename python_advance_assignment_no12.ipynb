{
  "nbformat": 4,
  "nbformat_minor": 0,
  "metadata": {
    "colab": {
      "provenance": []
    },
    "kernelspec": {
      "name": "python3",
      "display_name": "Python 3"
    },
    "language_info": {
      "name": "python"
    }
  },
  "cells": [
    {
      "cell_type": "code",
      "execution_count": 2,
      "metadata": {
        "id": "VgnWO_5s6q6M"
      },
      "outputs": [],
      "source": [
        "# Ans no 1:-String’s indexed character cannot to be assigned a New value , as Strings are immutable.\n",
        "# Example:\n",
        "# name = \"Reinforcement\"\n",
        "# print(id(name)) #73472\n",
        "# name[0] = \"V\" # Raises TypeError"
      ]
    },
    {
      "cell_type": "code",
      "source": [
        "# Ans no 2:-+= operator is used to concatenate strings, it does not violate Python’s string immutability Property. Because doing so new creates a new\n",
        "#           association with data and variable. E.g. str_1=\"a\" and str_1+=\"b. effect of this statements to create string ab and reassign it to variable\n",
        "#           str_1, any string data is not actually modified."
      ],
      "metadata": {
        "id": "HPl483PW66wj"
      },
      "execution_count": 3,
      "outputs": []
    },
    {
      "cell_type": "code",
      "source": [
        "str_1 = 'a'\n",
        "print(id(str_1))\n",
        "str_1 += 'b'\n",
        "print(id(str_1)) # Does not Modify existing string, Creates a New String Object"
      ],
      "metadata": {
        "colab": {
          "base_uri": "https://localhost:8080/"
        },
        "id": "SLY2LW3L7PiC",
        "outputId": "044fb84f-653e-41da-88bb-0d06d30b56f7"
      },
      "execution_count": 4,
      "outputs": [
        {
          "output_type": "stream",
          "name": "stdout",
          "text": [
            "139753345728240\n",
            "139752925702192\n"
          ]
        }
      ]
    },
    {
      "cell_type": "code",
      "source": [
        "# Ans no 3:-A Character in string can be indexed using string name followed by index number of character in square bracket. Positive Indexing i.e.\n",
        "#          first index is 0 an so on, or Negative Indexing i.e. last letter is -1 and so on can be used to index a character\n",
        "\n",
        "in_string = \"iNeuron Full Stack Data Science\"\n",
        "print(in_string[9],in_string[10],in_string[2]) # Positive Indexing\n",
        "print(in_string[-1],in_string[-5],in_string[-2]) # Negative Indexing"
      ],
      "metadata": {
        "colab": {
          "base_uri": "https://localhost:8080/"
        },
        "id": "J8mfTnV17Kk7",
        "outputId": "55a18319-9c8e-4937-bead-2513071cfa42"
      },
      "execution_count": 5,
      "outputs": [
        {
          "output_type": "stream",
          "name": "stdout",
          "text": [
            "u l e\n",
            "e i c\n"
          ]
        }
      ]
    },
    {
      "cell_type": "code",
      "source": [
        "# Ans ni 4:- We can access elements of sequence datatypes by using slicing and indexing. Indexing is used to obtaining individual element while slicing\n",
        "#            for sequence of elements.\n",
        "\n",
        "in_string = \"iNeuron Full Stack Data Science\"\n",
        "print(in_string[1],in_string[3],in_string[5]) # Indexing\n",
        "print(in_string[1:15]) # Slicing"
      ],
      "metadata": {
        "colab": {
          "base_uri": "https://localhost:8080/"
        },
        "id": "qUxGvLIQ7ZOp",
        "outputId": "57caf285-1db1-4fc4-ae53-701a573632e0"
      },
      "execution_count": 6,
      "outputs": [
        {
          "output_type": "stream",
          "name": "stdout",
          "text": [
            "N u o\n",
            "Neuron Full St\n"
          ]
        }
      ]
    },
    {
      "cell_type": "code",
      "source": [
        "# Ans no 5:- Indexed characters and sliced substrings have datatype String.\n",
        "\n",
        "in_string = \"iNeuron Full Stack Data Science\"\n",
        "print(type(in_string[3])) # Indexing -> str\n",
        "print(type(in_string[1:10])) # Indexing -> str"
      ],
      "metadata": {
        "colab": {
          "base_uri": "https://localhost:8080/"
        },
        "id": "KZnUrJU77jDp",
        "outputId": "a2a87532-da2d-404a-862c-75804c4bad87"
      },
      "execution_count": 7,
      "outputs": [
        {
          "output_type": "stream",
          "name": "stdout",
          "text": [
            "<class 'str'>\n",
            "<class 'str'>\n"
          ]
        }
      ]
    },
    {
      "cell_type": "code",
      "source": [
        "# Ans no 6:- Object that contains sequence of character datatypes are called String."
      ],
      "metadata": {
        "id": "1Rm-JTtk7pLp"
      },
      "execution_count": 8,
      "outputs": []
    },
    {
      "cell_type": "code",
      "source": [
        "# Ans no 7:-+, += and * allow to combine one or more smaller strings to create a larger string. <string>.join(<sep>) method joins element of iterable type\n",
        "#         like list and tuple to get a combined string.\n",
        "\n",
        "in_string = 'iNeuron '\n",
        "in_string += 'Full Stack Data Science'\n",
        "print(in_string + ' FSDS')\n",
        "print('FSDS '*3)\n",
        "print(\" \".join(['I','N','E','U','R','O','N'])) # List Iterable\n",
        "print(\" \".join(('I','N','E','U','R','O','N')).lower()) # Tuple Iterable"
      ],
      "metadata": {
        "colab": {
          "base_uri": "https://localhost:8080/"
        },
        "id": "-1cnEi8L7uZZ",
        "outputId": "8c6df124-4438-4e00-c0af-32fb8442d7b6"
      },
      "execution_count": 9,
      "outputs": [
        {
          "output_type": "stream",
          "name": "stdout",
          "text": [
            "iNeuron Full Stack Data Science FSDS\n",
            "FSDS FSDS FSDS \n",
            "I N E U R O N\n",
            "i n e u r o n\n"
          ]
        }
      ]
    },
    {
      "cell_type": "code",
      "source": [
        "# Ans no 8:- Checking the target string with in or not Operators before using the index method to find a substring just helps confirming availability of\n",
        "#           substring and thus avoid raising of ValueError.\n",
        "# Example:\n",
        "# in_string = \"ineuron\"\n",
        "# in_string.index('x') # Raises ValueError\n",
        "# in_string.index('u') # 3"
      ],
      "metadata": {
        "id": "mCy1XmaF74Z7"
      },
      "execution_count": 12,
      "outputs": []
    },
    {
      "cell_type": "code",
      "source": [
        "# Ans no 9:-The String Operators and built-in methods to Produce Simple Boolean (True/False) Results are:\n",
        "\n",
        "# in\n",
        "# not\n",
        "# <string>.isalpha()\n",
        "# <string>.isalnum()\n",
        "# <string>.isdecimal()\n",
        "# <string>.isdigit()\n",
        "# <string>.islower()\n",
        "# <string>.isnumeric()\n",
        "# <string>.isprintable()\n",
        "# <string>.isspace()\n",
        "# <string>.istitle()"
      ],
      "metadata": {
        "id": "ixEvymhG8JWg"
      },
      "execution_count": 13,
      "outputs": []
    },
    {
      "cell_type": "code",
      "source": [],
      "metadata": {
        "id": "loaY1NcR8ang"
      },
      "execution_count": null,
      "outputs": []
    }
  ]
}