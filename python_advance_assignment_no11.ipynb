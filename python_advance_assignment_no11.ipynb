{
  "nbformat": 4,
  "nbformat_minor": 0,
  "metadata": {
    "colab": {
      "provenance": []
    },
    "kernelspec": {
      "name": "python3",
      "display_name": "Python 3"
    },
    "language_info": {
      "name": "python"
    }
  },
  "cells": [
    {
      "cell_type": "code",
      "execution_count": null,
      "metadata": {
        "id": "5Ifrd8yE8BzE"
      },
      "outputs": [],
      "source": [
        "# Ans no 1:- Metaclass in Python is a class of a class that defines how a class behaves. A class is itself a instance of Metaclass, and any Instance\n",
        "#           of Class in Python is an Instance of type metaclass. E.g. Type of of int, str, float, list, tuple and many more is of metaclass type."
      ]
    },
    {
      "cell_type": "code",
      "source": [
        "# Ans no 2:- A way to declare a class’ metaclass is by using metaclass keyword in class definition.\n",
        "\n",
        "class meta(type):\n",
        "    pass\n",
        "class class_meta(metaclass=meta):\n",
        "    pass\n",
        "print(type(meta))\n",
        "print(type(class_meta))"
      ],
      "metadata": {
        "colab": {
          "base_uri": "https://localhost:8080/"
        },
        "id": "JeSFiijQ5-Ep",
        "outputId": "3dda2746-0a02-4171-fb0a-51edebe058d1"
      },
      "execution_count": 1,
      "outputs": [
        {
          "output_type": "stream",
          "name": "stdout",
          "text": [
            "<class 'type'>\n",
            "<class '__main__.meta'>\n"
          ]
        }
      ]
    },
    {
      "cell_type": "code",
      "source": [
        "# Ans no 3:- Anything you can do with a class decorator, you can of course do with a custom metaclasses\n",
        "#            (just apply the functionality of the \"decorator function\", i.e., the one that takes a class object and modifies it, in the course of the\n",
        "#            metaclass's __new__ or __init__ that make the class object!)."
      ],
      "metadata": {
        "id": "sVF5B1nC6ELR"
      },
      "execution_count": 2,
      "outputs": []
    },
    {
      "cell_type": "code",
      "source": [
        "# Ans no 4:-Anything you can do with a class decorator, you can of course do with a custom metaclass\n",
        " #         (just apply the functionality of the \"decorator function\", i.e., the one that takes a class object and modifies it, in the course of the\n",
        " #          metaclass's __new__ or __init__ that make the class object!)."
      ],
      "metadata": {
        "id": "a5Jtlkoj6Qz7"
      },
      "execution_count": 3,
      "outputs": []
    }
  ]
}