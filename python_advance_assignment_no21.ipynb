{
  "nbformat": 4,
  "nbformat_minor": 0,
  "metadata": {
    "colab": {
      "provenance": []
    },
    "kernelspec": {
      "name": "python3",
      "display_name": "Python 3"
    },
    "language_info": {
      "name": "python"
    }
  },
  "cells": [
    {
      "cell_type": "code",
      "execution_count": 2,
      "metadata": {
        "id": "jLd_Zwd7Lko6"
      },
      "outputs": [],
      "source": [
        "# Ans no 1:-A probability distribution describes how a random variable is distributed.\n",
        "\n",
        "# It tells us which values a random variable is most likely to take on and which values are less likely. Based on the previous data and the occurences of\n",
        "# the random event, we can predict the outcome in terms of probabilities."
      ]
    },
    {
      "cell_type": "code",
      "source": [
        "# Ans no 2:- True Random Numbers are true physical values while pseudo-random numbers are generated internally by a program . Latter is considered good\n",
        "#            enough as they have sort of uniform distribution."
      ],
      "metadata": {
        "id": "NzJXrH0VMOUQ"
      },
      "execution_count": 1,
      "outputs": []
    },
    {
      "cell_type": "code",
      "source": [
        "# Ans no 3:-Normal Probability Distribution are influenced by two factors mean and the variance."
      ],
      "metadata": {
        "id": "R9a2-5JpMYxC"
      },
      "execution_count": 3,
      "outputs": []
    },
    {
      "cell_type": "code",
      "source": [
        "# Ans no 4:-A Real-life example of a normal distribution are heights or blood pressure measurements"
      ],
      "metadata": {
        "id": "qcLw5_p_Mh0m"
      },
      "execution_count": 4,
      "outputs": []
    },
    {
      "cell_type": "code",
      "source": [
        "# Ans no 5:- Variance will decrease with number of trials"
      ],
      "metadata": {
        "id": "QTCpDUSNMmN-"
      },
      "execution_count": 5,
      "outputs": []
    },
    {
      "cell_type": "code",
      "source": [
        "# Ans no 6:-lists (list), strings (str) and tuples (tuple) objects can be shuffled by using random.shuffle."
      ],
      "metadata": {
        "id": "96GfZ16iMrCe"
      },
      "execution_count": 6,
      "outputs": []
    },
    {
      "cell_type": "code",
      "source": [
        "# Ans no 7:-The Math package's general categories of functions are:\n",
        "\n",
        "# Trigonometric functions\n",
        "# Quadratic functions\n",
        "# Exponential functions\n",
        "# Hyperbolic functions\n",
        "# Periodic functions\n",
        "# Arithmetic functions\n",
        "# Logarithimic functions\n",
        "# Conversions to Integer"
      ],
      "metadata": {
        "id": "wRKkAnm1Mwp-"
      },
      "execution_count": 7,
      "outputs": []
    },
    {
      "cell_type": "code",
      "source": [
        "# Ans no 8:-Exponentiation and logarithms are inverse of each other."
      ],
      "metadata": {
        "id": "IF76xkNBM74W"
      },
      "execution_count": 8,
      "outputs": []
    },
    {
      "cell_type": "code",
      "source": [
        "# Ans no 9:-The Three Logarithmic Functions that Python supports are:\n",
        "\n",
        "# log2(x) - logarithmic value of x to base 2\n",
        "# log10(x) - logarithmic value of x to base 10\n",
        "# log1p(a) - This function is used to compute logarithm(1+a) ."
      ],
      "metadata": {
        "id": "MEymB2CpNBQX"
      },
      "execution_count": 10,
      "outputs": []
    }
  ]
}