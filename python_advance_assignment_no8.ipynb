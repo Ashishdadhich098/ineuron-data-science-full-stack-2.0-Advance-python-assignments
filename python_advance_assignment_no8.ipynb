{
  "nbformat": 4,
  "nbformat_minor": 0,
  "metadata": {
    "colab": {
      "provenance": []
    },
    "kernelspec": {
      "name": "python3",
      "display_name": "Python 3"
    },
    "language_info": {
      "name": "python"
    }
  },
  "cells": [
    {
      "cell_type": "code",
      "execution_count": 1,
      "metadata": {
        "id": "tvkvSTab2r5Y"
      },
      "outputs": [],
      "source": [
        "# Ans no 1:-raise and assert are the two latest user-defined exception constraints in Python 3.X"
      ]
    },
    {
      "cell_type": "code",
      "source": [
        "# Ans no 2:- In python, Users can define custom exceptions by creating a new class. This exception class has to be derived, either directly or indirectly\n",
        "#           from built-in Exception class. This new exception class like other exceptions can be raised using the raise statement with an optional error\n",
        "#           message.\n",
        "\n",
        "class ToYoungException(Exception):\n",
        "    def __init__(self,msg):\n",
        "        self.msg = msg\n",
        "age = 12\n",
        "if age <= 18: raise ToYoungException('To Young For Voting')"
      ],
      "metadata": {
        "colab": {
          "base_uri": "https://localhost:8080/",
          "height": 200
        },
        "id": "ZhFLtC8o3C-D",
        "outputId": "83404744-066c-438f-a090-8d5e0298a862"
      },
      "execution_count": 2,
      "outputs": [
        {
          "output_type": "error",
          "ename": "ToYoungException",
          "evalue": "ignored",
          "traceback": [
            "\u001b[0;31m---------------------------------------------------------------------------\u001b[0m",
            "\u001b[0;31mToYoungException\u001b[0m                          Traceback (most recent call last)",
            "\u001b[0;32m<ipython-input-2-a033750daaed>\u001b[0m in \u001b[0;36m<cell line: 9>\u001b[0;34m()\u001b[0m\n\u001b[1;32m      7\u001b[0m         \u001b[0mself\u001b[0m\u001b[0;34m.\u001b[0m\u001b[0mmsg\u001b[0m \u001b[0;34m=\u001b[0m \u001b[0mmsg\u001b[0m\u001b[0;34m\u001b[0m\u001b[0;34m\u001b[0m\u001b[0m\n\u001b[1;32m      8\u001b[0m \u001b[0mage\u001b[0m \u001b[0;34m=\u001b[0m \u001b[0;36m12\u001b[0m\u001b[0;34m\u001b[0m\u001b[0;34m\u001b[0m\u001b[0m\n\u001b[0;32m----> 9\u001b[0;31m \u001b[0;32mif\u001b[0m \u001b[0mage\u001b[0m \u001b[0;34m<=\u001b[0m \u001b[0;36m18\u001b[0m\u001b[0;34m:\u001b[0m \u001b[0;32mraise\u001b[0m \u001b[0mToYoungException\u001b[0m\u001b[0;34m(\u001b[0m\u001b[0;34m'To Young For Voting'\u001b[0m\u001b[0;34m)\u001b[0m\u001b[0;34m\u001b[0m\u001b[0;34m\u001b[0m\u001b[0m\n\u001b[0m",
            "\u001b[0;31mToYoungException\u001b[0m: To Young For Voting"
          ]
        }
      ]
    },
    {
      "cell_type": "code",
      "source": [
        "# Ans no 3:- The process() method of LoggerAdapter is where the contextual information is added to the logging output. its passes the message and keyword\n",
        "#            arguments of the logging call, and it passes back modified versions of these to use in the call to the underlying logger.\n",
        "\n",
        "#  Other method that can be used is exception(), Logs a messgae with level ERROR on this logger. The arguments are interpreted as for debug(). Exception\n",
        "#  info is added to the logging message."
      ],
      "metadata": {
        "id": "u_5Sdh_d3O0D"
      },
      "execution_count": 3,
      "outputs": []
    },
    {
      "cell_type": "code",
      "source": [
        "# Ans no 4:-raise and assert are two methods for specifying the text of an exception object's error message.raise statement is used to trigger explicit\n",
        "#         exception, if certain condition is not as per requirement of programmer. it helps in triggering exception as per need of programmer and logic.\n",
        "\n",
        "# There are few assertions that programmer always want to be True to avoid code failure. This type of requirment is fullfilled by assert statement.\n",
        "#  This statement takes a Boolean Condition output of which if True, further program executes. if output of assert statement is False it raises an Assertion\n",
        "#   Error."
      ],
      "metadata": {
        "id": "HIdpGGiR3eJD"
      },
      "execution_count": 4,
      "outputs": []
    },
    {
      "cell_type": "code",
      "source": [
        "# Ans no 5:-\n",
        "# String-based Exceptions doesn't inherit from Exceptions. so plain exceptions catch all exceptions and not only system."
      ],
      "metadata": {
        "id": "ZwH_RIUB3xtM"
      },
      "execution_count": 5,
      "outputs": []
    }
  ]
}