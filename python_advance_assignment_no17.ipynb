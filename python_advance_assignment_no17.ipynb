{
  "nbformat": 4,
  "nbformat_minor": 0,
  "metadata": {
    "colab": {
      "provenance": []
    },
    "kernelspec": {
      "name": "python3",
      "display_name": "Python 3"
    },
    "language_info": {
      "name": "python"
    }
  },
  "cells": [
    {
      "cell_type": "code",
      "execution_count": 1,
      "metadata": {
        "colab": {
          "base_uri": "https://localhost:8080/"
        },
        "id": "v7ilBqUSD3BR",
        "outputId": "7799ed1e-2f20-4c0f-ac54-2d6ad8a77575"
      },
      "outputs": [
        {
          "output_type": "stream",
          "name": "stdout",
          "text": [
            "['vvvvvv', '']\n",
            "['', 'v', '', 'v', '', 'v', '', 'v', '', 'v', '', 'v', '']\n"
          ]
        }
      ],
      "source": [
        "# Ans no 1:- The Main difference between Greedy and Non Greedy Match Syntax is The Greedy Match will try to match as many repetitions of the quantified\n",
        "#           pattern as possible Whereas The Non Greedy Match will try to match as few repetitions of the quantified pattern as possible\n",
        "\n",
        "import re\n",
        "print(re.findall(\"v*\", \"vvvvvv\")) # Greedy Match Synatx\n",
        "print(re.findall(\"v*?\", \"vvvvvv\")) # Non Greddy Syntax"
      ]
    },
    {
      "cell_type": "code",
      "source": [
        "# Ans no 2:- The Greedy Match will try to match as many repetitions of the quantified pattern as possible. The Non Greedy Match will try to match as few\n",
        "#            repetitions of the quantified pattern as possible. If only Non Greedy Match is available, we can use other filtering or pattern matching\n",
        "#            methods of regex and further identify the required pattern."
      ],
      "metadata": {
        "id": "2NjEzXhDEHTs"
      },
      "execution_count": null,
      "outputs": []
    },
    {
      "cell_type": "code",
      "source": [
        "# Ans no 3:-In this Case The Non Tagged Group will not make any diffrence in this case.\n",
        "\n",
        "import re\n",
        "phoneNumRegex = re.compile(r'\\d\\d\\d')\n",
        "num = phoneNumRegex.search('My number is 234-567-8901.')\n",
        "print(f'Phone number found -> {num.group()}') # Non Tagged group\n",
        "print(f'Phone number found -> {num.group(0)}') # Tagged Group"
      ],
      "metadata": {
        "colab": {
          "base_uri": "https://localhost:8080/"
        },
        "id": "nK7APbU3ER4C",
        "outputId": "7083b616-47ce-47b8-bbe7-aa59c7a5f1a7"
      },
      "execution_count": 2,
      "outputs": [
        {
          "output_type": "stream",
          "name": "stdout",
          "text": [
            "Phone number found -> 234\n",
            "Phone number found -> 234\n"
          ]
        }
      ]
    },
    {
      "cell_type": "code",
      "source": [
        "# Ans no 4:-Here in the below Code Snippet . decimal is not tagged or captured. It will useful in scenarios where the separator of value in a string is\n",
        "#           of no use and we need to capture only the values.\n",
        "\n",
        "import re\n",
        "text='135.456'\n",
        "pattern=r'(\\d+)(?:.)(\\d+)'\n",
        "regobj=re.compile(pattern)\n",
        "matobj=regobj.search(text)\n",
        "matobj.groups()"
      ],
      "metadata": {
        "colab": {
          "base_uri": "https://localhost:8080/"
        },
        "id": "Wda-GqayEXJc",
        "outputId": "670b0a7a-855a-43d0-d10f-82a3f3360510"
      },
      "execution_count": 3,
      "outputs": [
        {
          "output_type": "execute_result",
          "data": {
            "text/plain": [
              "('135', '456')"
            ]
          },
          "metadata": {},
          "execution_count": 3
        }
      ]
    },
    {
      "cell_type": "code",
      "source": [
        "# Ans no 5:-While counting the number of multiple lines or mutiple sentence in a string the positive look ahead makes a difference, without which we wont\n",
        "#          get the correct count of lines or sentences in a string."
      ],
      "metadata": {
        "id": "-Lrnd1IUEfO6"
      },
      "execution_count": 4,
      "outputs": []
    },
    {
      "cell_type": "code",
      "source": [
        "# Ans no 6:-  Positive Lookahead allows to add a condition for what follows. Negative Lookahead is similar, but it looks behind. That is, it allows to\n",
        "#             match a pattern only if there’s something before it."
      ],
      "metadata": {
        "id": "9Hq4LrKQEnEi"
      },
      "execution_count": 5,
      "outputs": []
    },
    {
      "cell_type": "code",
      "source": [
        "# Ans no 7:-Referring to groups by name rather than by number in a standard expression helps to keep the code clear and easy to understand."
      ],
      "metadata": {
        "id": "ILCqnOlAFGLh"
      },
      "execution_count": null,
      "outputs": []
    },
    {
      "cell_type": "code",
      "source": [
        "# Ans no 8:-\n",
        "import re\n",
        "text = \"The cow jumped over the moon\"\n",
        "regobj=re.compile(r'(?P<w1>The)',re.I)\n",
        "regobj.findall(text)"
      ],
      "metadata": {
        "colab": {
          "base_uri": "https://localhost:8080/"
        },
        "id": "0wR1tp2BExC4",
        "outputId": "3ac310b4-4176-49bf-ce72-30dc6af7d969"
      },
      "execution_count": 6,
      "outputs": [
        {
          "output_type": "execute_result",
          "data": {
            "text/plain": [
              "['The', 'the']"
            ]
          },
          "metadata": {},
          "execution_count": 6
        }
      ]
    },
    {
      "cell_type": "code",
      "source": [
        "# Ans no 9:- re.findall() module is used to search for all occurrences that match a given pattern. In contrast, re.search() will only return the first\n",
        "# occurrence that matches the specified pattern. re.findall() will iterate over all the lines of the file and will return all non-overlapping matches of\n",
        "# pattern in a single step."
      ],
      "metadata": {
        "id": "kiIiPXR_E265"
      },
      "execution_count": 7,
      "outputs": []
    },
    {
      "cell_type": "code",
      "source": [
        "# Ans no 10:-Yes, It may have any name."
      ],
      "metadata": {
        "id": "vMplktnHFACf"
      },
      "execution_count": 8,
      "outputs": []
    }
  ]
}