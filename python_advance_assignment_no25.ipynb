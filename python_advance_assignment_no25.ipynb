{
  "nbformat": 4,
  "nbformat_minor": 0,
  "metadata": {
    "colab": {
      "provenance": []
    },
    "kernelspec": {
      "name": "python3",
      "display_name": "Python 3"
    },
    "language_info": {
      "name": "python"
    }
  },
  "cells": [
    {
      "cell_type": "code",
      "execution_count": 1,
      "metadata": {
        "id": "lM8ITnBlT0Yr"
      },
      "outputs": [],
      "source": [
        "# Ans no 1:- Numpy Ndarray provides a lot of convenient and optimized methods for performing several mathematical operations on vectors.\n",
        "\n",
        "#Pandas Dataframe is an in-memory 2-dimensional tabular representation of data. In simpler words, it can be seen as a spreadsheet having rows and columns.\n",
        "\n",
        "# Conversion : Dataframe=pandas.DataFrame(array)"
      ]
    },
    {
      "cell_type": "code",
      "source": [
        "# Ans no 2:-handling user-entered stock ticker symbols involves validation, error handling, data verification, and providing clear feedback to the user\n",
        "#          in case of any issues. By implementing these measures, we can enhance the user experience and ensure accurate and reliable stock information\n",
        "#           retrieval."
      ],
      "metadata": {
        "id": "rUZYrupJUvum"
      },
      "execution_count": null,
      "outputs": []
    },
    {
      "cell_type": "code",
      "source": [
        "#Ans no 3:-Bar chart, Line Chart are used for plotting."
      ],
      "metadata": {
        "id": "g4uCV68mUDb7"
      },
      "execution_count": 2,
      "outputs": []
    },
    {
      "cell_type": "code",
      "source": [
        "# Ans no 4:-Legend will help comparison between different stocks, so will be essential on a stock market chart"
      ],
      "metadata": {
        "id": "liuopZTxUIIB"
      },
      "execution_count": 3,
      "outputs": []
    },
    {
      "cell_type": "code",
      "source": [
        "# Ans no 5:-: We can use start and end parameters for that. In start we write the date from where we are starting and at the end we write the end date.\n",
        "#  SO within this span we can restric the duration.Also we can use the parameters like periods for how much times we need the duration and we can also use\n",
        "# the frequency parameter."
      ],
      "metadata": {
        "id": "H-sxtyT3UMbp"
      },
      "execution_count": null,
      "outputs": []
    },
    {
      "cell_type": "code",
      "source": [
        "# Ans no 6:-The 180-day moving average is represented as a line on charts and represents the average price over the past 180 days. The moving average can\n",
        "#  give traders a sense regarding whether the trend is up or down, while also identifying potential support or resistance areas."
      ],
      "metadata": {
        "id": "3Vr0T2OOUTbW"
      },
      "execution_count": 4,
      "outputs": []
    },
    {
      "cell_type": "code",
      "source": [
        "# Ans no 7:- \"indirect\" importing involves importing a module indirectly through another module. By importing one module that internally imports another\n",
        "#             module, you can access the functionality of both modules within our program. The specifics of how to accomplish this can vary depending on\n",
        "#             the programming language and its specific import mechanisms."
      ],
      "metadata": {
        "id": "-f9srbQfVJ3R"
      },
      "execution_count": 5,
      "outputs": []
    }
  ]
}