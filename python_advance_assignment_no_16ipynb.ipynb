{
  "nbformat": 4,
  "nbformat_minor": 0,
  "metadata": {
    "colab": {
      "provenance": []
    },
    "kernelspec": {
      "name": "python3",
      "display_name": "Python 3"
    },
    "language_info": {
      "name": "python"
    }
  },
  "cells": [
    {
      "cell_type": "code",
      "execution_count": 1,
      "metadata": {
        "id": "UnPqKwRAB49L"
      },
      "outputs": [],
      "source": [
        "# Ans no 1:- Regular Expressions, also known as regex or regexp, are used to match strings of text such as particular characters, words, or patterns of\n",
        "#            characters. It means that we can match and extract any string pattern from the text with the help of regular expressions. it helps the\n",
        "#            programmers to Write less and cleaner code. it also avoids multiple use of if/else statements.\n",
        "\n"
      ]
    },
    {
      "cell_type": "code",
      "source": [
        "# # Ans no 2:- Both (ab)c+ and a(bc)+ are valid patterns. the difference between both these patterns is in (ab)c+ ab is group whereas in a(bc)+ bc is a group."
      ],
      "metadata": {
        "id": "zqotmtgrCnbj"
      },
      "execution_count": 3,
      "outputs": []
    },
    {
      "cell_type": "code",
      "source": [
        "# Ans no 3:- import re statement always has to be imported before using regular expressions."
      ],
      "metadata": {
        "id": "ZsMfVQk7CzRw"
      },
      "execution_count": 2,
      "outputs": []
    },
    {
      "cell_type": "code",
      "source": [
        "# Ans no 4:-The Characters .,*,?,^,or,(), have a special signiface when used with square brackets. They need not be be explicitly escaped by \\ as in case\n",
        "#          of pattern texts in a raw string."
      ],
      "metadata": {
        "id": "JXWvBrd5C6Mw"
      },
      "execution_count": 4,
      "outputs": []
    },
    {
      "cell_type": "code",
      "source": [
        "# Ans no 5:-We can Combine a regular expression pattern into pattern Objects.Which can be used for pattern matching. it also helps to search a pattern\n",
        "#          again without rewritting it."
      ],
      "metadata": {
        "id": "05mQbKeoDDrx"
      },
      "execution_count": 5,
      "outputs": []
    },
    {
      "cell_type": "code",
      "source": [
        "# Ans no 6:- The re.search() and re.match() both are functions of re module in python. These functions are very efficient and fast for searching in strings.\n",
        "#            The function searches for some substring in a string and returns a match object if found, else it returns none.\n",
        "\n",
        "# There is a difference between the use of both functions. Both return the first match of a substring found in the string, but re.match() searches only\n",
        "# from the beginning of the string and return match object if found. But if a match of substring is found somewhere in the middle of the string, it returns\n",
        "#  none.\n",
        "\n",
        "# While re.search() searches for the whole string even if the string contains multi-lines and tries to find a match of the substring in all the lines of\n",
        "# string"
      ],
      "metadata": {
        "id": "ZfB9uG6nDLuw"
      },
      "execution_count": 6,
      "outputs": []
    },
    {
      "cell_type": "code",
      "source": [
        "import re\n",
        "Substring ='string'\n",
        "String1 ='We are learning regex with geeksforgeeks regex is very useful for string matching. It is fast too.'\n",
        "String2 ='string We are learning regex with geeksforgeeks regex is very useful for string matching. It is fast too.'\n",
        "print(re.search(Substring, String1, re.IGNORECASE))\n",
        "print(re.match(Substring, String1, re.IGNORECASE))\n",
        "print(re.search(Substring, String2, re.IGNORECASE))\n",
        "print(re.match(Substring, String2, re.IGNORECASE))"
      ],
      "metadata": {
        "colab": {
          "base_uri": "https://localhost:8080/"
        },
        "id": "tVLI2JRmDjHZ",
        "outputId": "2a1f66ec-566d-45dc-e999-99d6115c849d"
      },
      "execution_count": 7,
      "outputs": [
        {
          "output_type": "stream",
          "name": "stdout",
          "text": [
            "<re.Match object; span=(66, 72), match='string'>\n",
            "None\n",
            "<re.Match object; span=(0, 6), match='string'>\n",
            "<re.Match object; span=(0, 6), match='string'>\n"
          ]
        }
      ]
    },
    {
      "cell_type": "code",
      "source": [
        "# Ans no 7:- When | us used then patterns searches for or option. i.e <pattern_1>|<pattern_2> means it searches as <pattern_1>or<<pattern_2> in the\n",
        "#            searched string. the first occurance of matched string will be returned as the Match Object. Using Character set in square Brackets searches\n",
        "#            for all the character set in the square bracket and if match is found, it returns it."
      ],
      "metadata": {
        "id": "IQ5wvp2VDd2x"
      },
      "execution_count": 8,
      "outputs": []
    },
    {
      "cell_type": "code",
      "source": [
        "# Ans no 8:-Raw Strings are used in the regular-expression search patterns, so that blackslashes donot have to be escaped."
      ],
      "metadata": {
        "id": "tGM6bZIPDskw"
      },
      "execution_count": 9,
      "outputs": []
    }
  ]
}