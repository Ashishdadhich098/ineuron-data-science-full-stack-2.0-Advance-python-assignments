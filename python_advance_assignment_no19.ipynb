{
  "nbformat": 4,
  "nbformat_minor": 0,
  "metadata": {
    "colab": {
      "provenance": []
    },
    "kernelspec": {
      "name": "python3",
      "display_name": "Python 3"
    },
    "language_info": {
      "name": "python"
    }
  },
  "cells": [
    {
      "cell_type": "code",
      "execution_count": 1,
      "metadata": {
        "id": "-ISOW1prHQVO"
      },
      "outputs": [],
      "source": [
        "# Ans no 1:-Relationship between a class and its instances is a one to many partnership."
      ]
    },
    {
      "cell_type": "code",
      "source": [
        "# Ans no 2:- Instance objects contains the Instance variables which are specific to that specific Instance object."
      ],
      "metadata": {
        "id": "8dObvEUpHb1Y"
      },
      "execution_count": 2,
      "outputs": []
    },
    {
      "cell_type": "code",
      "source": [
        "# Ans no 3:- Class creates a user-defined data structure, which holds its own data members and member functions, which can be accessed and used by creating\n",
        "#            an instance of that class. A class is like a blueprint for an object."
      ],
      "metadata": {
        "id": "CB9-5kdpHlkn"
      },
      "execution_count": 3,
      "outputs": []
    },
    {
      "cell_type": "code",
      "source": [
        "# Ans no 4:-The methods with a class can be used to access the insatnce variables of its instance. So,the object's state can be modified by its method.\n",
        "#           Function can't access the attributes of an instance of a class or can't modify the state of the object"
      ],
      "metadata": {
        "id": "OvYpkzuJHv7S"
      },
      "execution_count": null,
      "outputs": []
    },
    {
      "cell_type": "code",
      "source": [
        "# Ans no 5:- Yes,Python supports inheritance. The Types of Inheritence Supported by Python are:\n",
        "\n",
        "# Simple Inheritence\n",
        "# Multiple Inheritence\n",
        "# Multilevel lInheritence\n",
        "# Hybrid Inheritence\n",
        "# Hierracial Inheritence"
      ],
      "metadata": {
        "id": "TPxlXaK5H4sR"
      },
      "execution_count": 4,
      "outputs": []
    },
    {
      "cell_type": "code",
      "source": [
        "class Person:\n",
        "    def __init__(self, fname, lname):\n",
        "        self.first_name = fname\n",
        "        self.last_name = lname\n",
        "class Student(Person):\n",
        "    pass"
      ],
      "metadata": {
        "id": "KNzzZ_aLIDvg"
      },
      "execution_count": 5,
      "outputs": []
    },
    {
      "cell_type": "code",
      "source": [
        "# Ans no 6:-Encapsulation describes the idea of wrapping data and the methods that work on data within one unit. This puts restrictions on accessing\n",
        "#           variables and methods directly and can prevent the accidental modification of data. To prevent accidental change, an objects variable can only\n",
        "#           be changed by an objects method."
      ],
      "metadata": {
        "id": "qvQSKI0BH_rh"
      },
      "execution_count": 6,
      "outputs": []
    },
    {
      "cell_type": "code",
      "source": [
        "# Ans no 7:-The 'Class Attribute' is available to all the instance objects of that class. whereas 'Instance Attributes' are accessible only to the object or\n",
        "#          Instance of that class."
      ],
      "metadata": {
        "id": "ukyjzpFTIMJX"
      },
      "execution_count": 7,
      "outputs": []
    },
    {
      "cell_type": "code",
      "source": [
        "# Ans no 8:-Yes, self can included in class method definations to access the instance variables inside class methods."
      ],
      "metadata": {
        "id": "Q-7ne8nsIcR3"
      },
      "execution_count": 8,
      "outputs": []
    },
    {
      "cell_type": "code",
      "source": [
        "# Ans no 9:-Entering __radd__ Python will first try __add__(), and if that returns Not Implemented Python will check if the right-hand operand implements\n",
        "#           __radd__, and if it does, it will call __radd__() rather than raising a TypeError"
      ],
      "metadata": {
        "id": "DC-oSYdLIsjn"
      },
      "execution_count": 9,
      "outputs": []
    },
    {
      "cell_type": "code",
      "source": [
        "# Ans no 10:- Reflection method we often encounter the requirement that a method in the executing object, or a variable in the calling object, or a field of\n",
        "#             the object should be assigned, while the method name or field name can not be determined when encoding the code, and need to be input in the\n",
        "#             form of passing strings through parameters."
      ],
      "metadata": {
        "id": "77pEB5gdIz-a"
      },
      "execution_count": 10,
      "outputs": []
    },
    {
      "cell_type": "code",
      "source": [
        "# Ans no 11:- __iadd__ method is called when we use implementation like a+=b which is a.__iadd__(b)"
      ],
      "metadata": {
        "id": "_37HnJV9I9Uo"
      },
      "execution_count": 11,
      "outputs": []
    },
    {
      "cell_type": "code",
      "source": [
        "# Ans no 12:-Yes, __init__ method will be inherited by subclasses. if we want to customize its behaviour within a subclass we can use 'super()' method."
      ],
      "metadata": {
        "id": "uXOP1xmEJEvv"
      },
      "execution_count": 12,
      "outputs": []
    }
  ]
}