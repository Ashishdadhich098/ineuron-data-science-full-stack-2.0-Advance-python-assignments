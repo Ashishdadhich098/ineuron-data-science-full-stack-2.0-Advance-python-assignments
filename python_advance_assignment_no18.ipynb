{
  "nbformat": 4,
  "nbformat_minor": 0,
  "metadata": {
    "colab": {
      "provenance": []
    },
    "kernelspec": {
      "name": "python3",
      "display_name": "Python 3"
    },
    "language_info": {
      "name": "python"
    }
  },
  "cells": [
    {
      "cell_type": "code",
      "execution_count": 1,
      "metadata": {
        "id": "UHHiZxtjFbdA"
      },
      "outputs": [],
      "source": [
        "# Ans no 1:-The differences between Text Files and Binary Files are:\n",
        "\n",
        "# Text files are special subset of binary files that are used to store human readable characters as a rich text document or plain text document. Text files\n",
        "#  also store data in sequential bytes but bits in text file represents characters.\n",
        "\n",
        "# Binary files are those typical files that store data in the form of sequence of bytes grouped into eight bits or sometimes sixteen bits. These bits\n",
        "# represent custom data and such files can store multiple types of data (images, audio, text, etc) under a single file.\n",
        "\n"
      ]
    },
    {
      "cell_type": "code",
      "source": [
        "# Ans no 2:- Text files are less prone to get corrupted as any undesired change may just show up once the file is opened and then can easily be removed.\n",
        "#            Whereas Use binary files instead of text files for image data."
      ],
      "metadata": {
        "id": "JcK1hDyeF_q6"
      },
      "execution_count": 2,
      "outputs": []
    },
    {
      "cell_type": "code",
      "source": [
        "# Ans no 3:- When we read or write a python integer using binary operations\n",
        "\n",
        "# Binary operations deal with raw data\n",
        "# One needs to identify how many bytes one would read or write."
      ],
      "metadata": {
        "id": "g_BgWB9AGJhB"
      },
      "execution_count": 3,
      "outputs": []
    },
    {
      "cell_type": "code",
      "source": [
        "# Ans no 4:-When a file is opened using the with keyword, if some exceptions occur after opening a file, or at the end of the file it automatically does\n",
        "#          the closing of the file. There by not leaving an file in open mode and there would no need to explicitly close a file."
      ],
      "metadata": {
        "id": "4DLqm_zkGQto"
      },
      "execution_count": 4,
      "outputs": []
    },
    {
      "cell_type": "code",
      "source": [
        "# Ans no 5:-Yes, Python have the trailing newline while reading a line of text. When we write a newline has to be provided in python excpicitly."
      ],
      "metadata": {
        "id": "wyJEbG_RGZ9H"
      },
      "execution_count": 5,
      "outputs": []
    },
    {
      "cell_type": "code",
      "source": [
        "# Ans no 6:-The file operations enable for random-access operation are 'seek()' and 'tell()'"
      ],
      "metadata": {
        "id": "jPs5zlY9GhrZ"
      },
      "execution_count": 6,
      "outputs": []
    },
    {
      "cell_type": "code",
      "source": [
        "# Ans no 7:-The 'struct' package is mostly used while converting a common python types into 'C' language types."
      ],
      "metadata": {
        "id": "jyb6vndCGmS4"
      },
      "execution_count": 11,
      "outputs": []
    },
    {
      "cell_type": "code",
      "source": [
        "# Ans no 8:- Pickling is best option for creating a new binary file using python."
      ],
      "metadata": {
        "id": "BKrpxrLpGrjp"
      },
      "execution_count": 8,
      "outputs": []
    },
    {
      "cell_type": "code",
      "source": [
        "# Ans no 9:-'Shelve' package is used to pickle data but treats the entire file as dictionary."
      ],
      "metadata": {
        "id": "nt5a7wEWGxR_"
      },
      "execution_count": 9,
      "outputs": []
    },
    {
      "cell_type": "code",
      "source": [
        "# Ans no 10:-Only string data type can be used as key in this special dictionary object, whereas any picklable Python object can be used as value."
      ],
      "metadata": {
        "id": "tFhE7hhWG2Cv"
      },
      "execution_count": 10,
      "outputs": []
    },
    {
      "cell_type": "code",
      "source": [],
      "metadata": {
        "id": "0alP-XJOHKIq"
      },
      "execution_count": null,
      "outputs": []
    }
  ]
}