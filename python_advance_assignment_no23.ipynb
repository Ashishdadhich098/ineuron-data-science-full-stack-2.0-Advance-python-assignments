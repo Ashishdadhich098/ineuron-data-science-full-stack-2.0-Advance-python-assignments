{
  "nbformat": 4,
  "nbformat_minor": 0,
  "metadata": {
    "colab": {
      "provenance": []
    },
    "kernelspec": {
      "name": "python3",
      "display_name": "Python 3"
    },
    "language_info": {
      "name": "python"
    }
  },
  "cells": [
    {
      "cell_type": "code",
      "execution_count": 1,
      "metadata": {
        "id": "UVWfFd12QYWl"
      },
      "outputs": [],
      "source": [
        "# Ans no 1:- Matplotlib provides a convenient method called subplots for increasing the comparison between different figures on the same graph. Subplots\n",
        "#            mean a group of smaller axes (where each axis is a plot) that can exist together within a single figure."
      ]
    },
    {
      "cell_type": "code",
      "source": [
        "# Ans no 2:- Compound interest makes a sum of money grow at a faster rate than simple interest,because in addition to earning returns on the money you\n",
        "#            invest, you also earn returns on those returns at the end of every compounding period, which could be daily, monthly, quarterly or annually."
      ],
      "metadata": {
        "id": "j8qB7K4lQqO4"
      },
      "execution_count": null,
      "outputs": []
    },
    {
      "cell_type": "code",
      "source": [
        "# Ans no 3:-Histogram shows total values of X wrt Y. Which means at any particular position of X, Y value shows the total number of counts or data below that\n",
        "#          value of X. numpy.histogram() is the built in function used."
      ],
      "metadata": {
        "id": "ukLQcynrQx8v"
      },
      "execution_count": null,
      "outputs": []
    },
    {
      "cell_type": "code",
      "source": [
        "# Ans no 4:-We can use figure(figsize=(10,8)) function inside the matplot.pyplot library which we scale down or up the graph."
      ],
      "metadata": {
        "id": "i2HPu-ogQ4aH"
      },
      "execution_count": 2,
      "outputs": []
    },
    {
      "cell_type": "code",
      "source": [
        "# Ans no 5:- In regular multiplication values of same index get multiplied.\n",
        "\n",
        "# In dot product there is row wise multiplication, row of one array with column of second array and so on.\n",
        "# In outer multiplication every element of first array a1 will be multiply by every element of other array a2 such such the number of columns will be equal\n",
        "#  to the number of element in another array a2."
      ],
      "metadata": {
        "id": "HOQx5uLUQ8-s"
      },
      "execution_count": 3,
      "outputs": []
    },
    {
      "cell_type": "code",
      "source": [
        "# Ans no 6:- np.pmt(rate, nper, pv) function we will be using in order to calculate monthly mortgage payment before you purchase a house.\n",
        "\n",
        "# rate = The periodic interest rate\n",
        "# nper = The number of payment periods\n",
        "# pv = The total value of the mortgage loan"
      ],
      "metadata": {
        "id": "hov58ejHRGGm"
      },
      "execution_count": 4,
      "outputs": []
    },
    {
      "cell_type": "code",
      "source": [
        "# Ans no 7:-Yes, an array can store the string. The limitation which imposed on the string data is, whenever we store the data of string dtype then it\n",
        "#           should should keep in mind that the string which is having the maximum length is the limit."
      ],
      "metadata": {
        "id": "QXMT1RUyROLO"
      },
      "execution_count": null,
      "outputs": []
    }
  ]
}