{
  "nbformat": 4,
  "nbformat_minor": 0,
  "metadata": {
    "colab": {
      "provenance": []
    },
    "kernelspec": {
      "name": "python3",
      "display_name": "Python 3"
    },
    "language_info": {
      "name": "python"
    }
  },
  "cells": [
    {
      "cell_type": "code",
      "execution_count": 1,
      "metadata": {
        "id": "4mAzFOrIyAwN"
      },
      "outputs": [],
      "source": [
        "# Ans no 1:- Exception Processing is important to find exceptions that causes the runtime error. As runtime errors Halt the program execution when\n",
        "#           exception occurs.\n",
        "\n",
        "# Exception Processing is used in Various Applications of which few examples are:\n",
        "\n",
        "# Checking Appropriate use of input in an application\n",
        "# Checking for Arithmetic exceptions in mathematical executions\n",
        "# Checking File I/O exceptions during File handling"
      ]
    },
    {
      "cell_type": "code",
      "source": [
        "# Ans no 2:- If Exceptions are not handled flow of program will be broken during the run time which might lead to a abnormal termination of the program.\n",
        "#          Inshort inability of program to handle exceptions will result in crashing of program."
      ],
      "metadata": {
        "id": "f6VngIHrzHBU"
      },
      "execution_count": 2,
      "outputs": []
    },
    {
      "cell_type": "code",
      "source": [
        "# Ans no 3:- Python provides try and except statements for recovering from an exception in your script."
      ],
      "metadata": {
        "id": "WVx5i89BzWwt"
      },
      "execution_count": 3,
      "outputs": []
    },
    {
      "cell_type": "code",
      "source": [
        "# Ans no 4:- raise and assert are two methods that can be used to trigger manual exceptions in your script.\n",
        "\n",
        "# raise method triggers an exception if condition provided to it turns out to be True.\n",
        "# assert will let the program to continue execution if condition provided to it turns out to be True else exception will be raised."
      ],
      "metadata": {
        "id": "HuA9u2mHzew7"
      },
      "execution_count": 4,
      "outputs": []
    },
    {
      "cell_type": "code",
      "source": [
        "# Example of raise\n",
        "x = 10\n",
        "raise Exception(f'X Value Should not exceed 5 The Provided Value of X is {x}')"
      ],
      "metadata": {
        "colab": {
          "base_uri": "https://localhost:8080/",
          "height": 200
        },
        "id": "6qKqENYbzqKz",
        "outputId": "fb2b729b-7527-49be-dda4-7eb1fcbb5f85"
      },
      "execution_count": 5,
      "outputs": [
        {
          "output_type": "error",
          "ename": "Exception",
          "evalue": "ignored",
          "traceback": [
            "\u001b[0;31m---------------------------------------------------------------------------\u001b[0m",
            "\u001b[0;31mException\u001b[0m                                 Traceback (most recent call last)",
            "\u001b[0;32m<ipython-input-5-3bda0e4dbc13>\u001b[0m in \u001b[0;36m<cell line: 3>\u001b[0;34m()\u001b[0m\n\u001b[1;32m      1\u001b[0m \u001b[0;31m# Example of raise\u001b[0m\u001b[0;34m\u001b[0m\u001b[0;34m\u001b[0m\u001b[0m\n\u001b[1;32m      2\u001b[0m \u001b[0mx\u001b[0m \u001b[0;34m=\u001b[0m \u001b[0;36m10\u001b[0m\u001b[0;34m\u001b[0m\u001b[0;34m\u001b[0m\u001b[0m\n\u001b[0;32m----> 3\u001b[0;31m \u001b[0;32mraise\u001b[0m \u001b[0mException\u001b[0m\u001b[0;34m(\u001b[0m\u001b[0;34mf'X Value Should not exceed 5 The Provided Value of X is {x}'\u001b[0m\u001b[0;34m)\u001b[0m\u001b[0;34m\u001b[0m\u001b[0;34m\u001b[0m\u001b[0m\n\u001b[0m",
            "\u001b[0;31mException\u001b[0m: X Value Should not exceed 5 The Provided Value of X is 10"
          ]
        }
      ]
    },
    {
      "cell_type": "code",
      "source": [
        "# Example of assert\n",
        "assert(2==4), \"2 is not equal to 4\""
      ],
      "metadata": {
        "colab": {
          "base_uri": "https://localhost:8080/",
          "height": 183
        },
        "id": "cl6S4PW2zwJL",
        "outputId": "6226f1e6-09da-4b98-805f-f2d1782ab52c"
      },
      "execution_count": 6,
      "outputs": [
        {
          "output_type": "error",
          "ename": "AssertionError",
          "evalue": "ignored",
          "traceback": [
            "\u001b[0;31m---------------------------------------------------------------------------\u001b[0m",
            "\u001b[0;31mAssertionError\u001b[0m                            Traceback (most recent call last)",
            "\u001b[0;32m<ipython-input-6-b3cb1796e5b9>\u001b[0m in \u001b[0;36m<cell line: 2>\u001b[0;34m()\u001b[0m\n\u001b[1;32m      1\u001b[0m \u001b[0;31m# Example of assert\u001b[0m\u001b[0;34m\u001b[0m\u001b[0;34m\u001b[0m\u001b[0m\n\u001b[0;32m----> 2\u001b[0;31m \u001b[0;32massert\u001b[0m\u001b[0;34m(\u001b[0m\u001b[0;36m2\u001b[0m\u001b[0;34m==\u001b[0m\u001b[0;36m4\u001b[0m\u001b[0;34m)\u001b[0m\u001b[0;34m,\u001b[0m \u001b[0;34m\"2 is not equal to 4\"\u001b[0m\u001b[0;34m\u001b[0m\u001b[0;34m\u001b[0m\u001b[0m\n\u001b[0m",
            "\u001b[0;31mAssertionError\u001b[0m: 2 is not equal to 4"
          ]
        }
      ]
    },
    {
      "cell_type": "code",
      "source": [
        "# Ans no 5:- Python Provides else and finally blocks for specifying actions to be executed at termination time, regardless of whether an exceptions\n",
        "#            exists or not."
      ],
      "metadata": {
        "id": "nr3PhP5Uzzy6"
      },
      "execution_count": 7,
      "outputs": []
    }
  ]
}