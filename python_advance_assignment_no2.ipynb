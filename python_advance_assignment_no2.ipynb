{
  "nbformat": 4,
  "nbformat_minor": 0,
  "metadata": {
    "colab": {
      "provenance": []
    },
    "kernelspec": {
      "name": "python3",
      "display_name": "Python 3"
    },
    "language_info": {
      "name": "python"
    }
  },
  "cells": [
    {
      "cell_type": "code",
      "execution_count": 1,
      "metadata": {
        "id": "fpgmTfwej13S"
      },
      "outputs": [],
      "source": [
        "# Ans no 1:- A Python class is like an outline/blueprint/mold for creating a new object. An object is anything that you wish to manipulate or change while\n",
        "# working through the code. Every time a class object is instantiated, which is when we declare a variable, a new object is initiated from scratch\n",
        "# Whereas in Python, Modules are simply files with the '. py' extension containing Python code that can be imported inside another Python Program. In simple\n",
        "# terms, we can consider a module to be the same as a code library or a file that contains a set of functions/Classes that you want to include in your\n",
        "# application."
      ]
    },
    {
      "cell_type": "code",
      "source": [
        "# Ans no 2:-For creating a class instance. we call a class by its name and pass the arguments which its __init__ method accepts.\n",
        "\n",
        "# Example: vishwak = employee('Male',20000), Here vishwak is an instance of class employee with attriubutes 'Male' and 20000.\n",
        "\n",
        "# Whereas for creating a class, we use the Class keyword. Class keyword is followed by classname and semicolon.\n",
        "\n",
        "# Example: Here Employee is a class created with class keyword with arguments gender and salary.\n",
        "\n",
        "# class Employee: def __init__(self, gender,salary): self.gender = gender self.salary = salary"
      ],
      "metadata": {
        "id": "fpEXclBYkb8V"
      },
      "execution_count": 2,
      "outputs": []
    },
    {
      "cell_type": "code",
      "source": [
        "# Ans no 3:-Class attributes or Class level Attributes belong to the class itself. these attributes will be shared by all the instances of the class. Hence\n",
        "#           these attributes are usually created/defined in the top of class definiation outside all methods.\n",
        "\n",
        "# Example: In the below code we are defining a class attribute called no_of_wheels which will be shared by all the instances of the class Car\n",
        "#          class Car: no_of_wheels = 4; # this is a class attribute def __init__(self,color,price,engine): self.color = color # All this are instance\n",
        "#          attributes self.price = price self.engine = engine"
      ],
      "metadata": {
        "id": "hVli4yCWk7uL"
      },
      "execution_count": 3,
      "outputs": []
    },
    {
      "cell_type": "code",
      "source": [
        "# Ans no 4:-: Instances attributes are passed to the class when an object of the class is created. Unlike class attributes, instance attributes are not\n",
        "#           shared by all objects of the classs. instead each object maintains its own copy of instance attributes at object level. whereas incase of class\n",
        " #          attributes all instances of class refer to a single copy. Usually instance attributes are defined within the __init__ method of class\n",
        "\n",
        "# Example: In the below sample code we are creating a class Car with instance varaibles color, price, engine, which will be provided when an instance of class Car is created.\n",
        "\n",
        "# class Car: def __init__(self,color,price,engine): self.color = color # All this are instance attributes self.price = price self.engine = engine\n",
        "\n",
        "# nexon_ev = Car('Indigo Blue', 1400000, 'electric')\n",
        "# safari = Car('Pearl White',2100000, 'petrol')\n",
        "\n",
        "# nexon_ev, safari are both the instances of class Car with different instance variables."
      ],
      "metadata": {
        "id": "DQUIFu-_lKpe"
      },
      "execution_count": 4,
      "outputs": []
    },
    {
      "cell_type": "code",
      "source": [
        "# Ans no 5:-self represents the instance of the class (it represents the object itself). By using the “self” keyword we can access the attributes and\n",
        "#          methods of the class with in the class in python. It binds the attributes with the given arguments.\n",
        "class Car:\n",
        "    def __init__(self,color,price,engine):\n",
        "        self.color = color # All this are instance attributes\n",
        "        self.price = price\n",
        "        self.engine = engine\n",
        "\n",
        "nexon_ev = Car('Indigo Blue', 1400000, 'electric')\n",
        "safari = Car('Pearl White',2100000, 'petrol')\n",
        "\n",
        "print(nexon_ev.__dict__)\n",
        "print(safari.__dict__)"
      ],
      "metadata": {
        "colab": {
          "base_uri": "https://localhost:8080/"
        },
        "id": "EexJumcRlsmM",
        "outputId": "29e6ef30-2c6b-496d-fd14-d2027132b5ba"
      },
      "execution_count": 5,
      "outputs": [
        {
          "output_type": "stream",
          "name": "stdout",
          "text": [
            "{'color': 'Indigo Blue', 'price': 1400000, 'engine': 'electric'}\n",
            "{'color': 'Pearl White', 'price': 2100000, 'engine': 'petrol'}\n"
          ]
        }
      ]
    },
    {
      "cell_type": "code",
      "source": [
        "# Ans no 6:- Python Classes handle operator overloading by using special methods called Magic methods. these special methods usually begin and end with __ (double underscore)\n",
        "# Example: Magic methods for basic arithmetic operators are:\n",
        "\n",
        "# + -> __add__()\n",
        "# - -> __sub__()\n",
        "# * -> __mul__()\n",
        "# / -> __div__()\n",
        "class Book:\n",
        "    def __init__(self,pages):\n",
        "        self.pages = pages\n",
        "    def __add__(self,other):\n",
        "        return self.pages + other.pages\n",
        "b1 = Book(100)\n",
        "b2 = Book(200)\n",
        "print(f'The total number of pages in 2 books is {b1+b2}')"
      ],
      "metadata": {
        "colab": {
          "base_uri": "https://localhost:8080/"
        },
        "id": "JZpiQIOdl5SE",
        "outputId": "d5772f59-75fe-4b8c-f5c7-f9dae3f0e589"
      },
      "execution_count": 6,
      "outputs": [
        {
          "output_type": "stream",
          "name": "stdout",
          "text": [
            "The total number of pages in 2 books is 300\n"
          ]
        }
      ]
    },
    {
      "cell_type": "code",
      "source": [
        "# Ans no 7:- When we want to have different meaning for the same operator accroding to the context we use operator overloading."
      ],
      "metadata": {
        "id": "efdu6TPvmLdF"
      },
      "execution_count": 7,
      "outputs": []
    },
    {
      "cell_type": "code",
      "source": [
        "# Ans no 8:- The most popular form of operator overloading in python is by special methods called Magic methods. Which usually beign and end with double\n",
        "#            underscore __<method name>__.\n",
        "class A:\n",
        "    def __init__(self,a):\n",
        "        self.a = a\n",
        "    def __add__(self,o):\n",
        "        return self.a+o.a\n",
        "obj1 = A(1)\n",
        "obj2 = A(2)\n",
        "obj3 = A('Mano')\n",
        "obj4 = A(' Vishnu')\n",
        "print(f'Sum -> {obj1+obj2}')\n",
        "print(f'String Concatenation -> {obj3+obj4}')"
      ],
      "metadata": {
        "colab": {
          "base_uri": "https://localhost:8080/"
        },
        "id": "XMWypJTTmRv7",
        "outputId": "6c19fcfa-e500-4424-9379-2519b3aa5d78"
      },
      "execution_count": 8,
      "outputs": [
        {
          "output_type": "stream",
          "name": "stdout",
          "text": [
            "Sum -> 3\n",
            "String Concatenation -> Mano Vishnu\n"
          ]
        }
      ]
    },
    {
      "cell_type": "code",
      "source": [
        "# Ans no 9:- Classes and objects are the two concepts to comprehend python OOP code as more formally objects are entities that represent instances of\n",
        "#           general abstract concept called class\n",
        "\n",
        "#Along with classes and objects the important concepts to grasp are:\n",
        "\n",
        "# Inheritence\n",
        "# Abstraction\n",
        "# Polymorphism\n",
        "# Encapsulation"
      ],
      "metadata": {
        "id": "Wk0pi3_CmdN0"
      },
      "execution_count": 9,
      "outputs": []
    }
  ]
}