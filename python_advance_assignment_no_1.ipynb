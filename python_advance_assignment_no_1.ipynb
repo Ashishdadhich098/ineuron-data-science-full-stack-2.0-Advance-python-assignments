{
  "nbformat": 4,
  "nbformat_minor": 0,
  "metadata": {
    "colab": {
      "provenance": []
    },
    "kernelspec": {
      "name": "python3",
      "display_name": "Python 3"
    },
    "language_info": {
      "name": "python"
    }
  },
  "cells": [
    {
      "cell_type": "code",
      "execution_count": 1,
      "metadata": {
        "id": "gFXqbYpKu0Jv"
      },
      "outputs": [],
      "source": [
        "# Ans no 1 :-\n",
        "# Object-oriented programming is a programming paradigm that provides a means of structuring programs so that properties and behaviors are bundled into\n",
        "# individual objects\n",
        "\n",
        "# In Python, object-oriented Programming (OOPs) uses objects and classes in programming.\n",
        "# It aims to implement real-world entities like inheritance, polymorphisms, encapsulation, etc. in the programming.\n",
        "# The main concept of OOPs is to bind the data and the functions that work on that together as a single unit so that no other part of the code can access this data.\n",
        "# It comes up with the following advantages:\n",
        "# It helps to divide our over all program into different small segments and thus making it solving easy with the use of objects\n",
        "# Helps in easy maintenance and modification of existing program\n",
        "# Multiple instances of an object can be made.\n"
      ]
    },
    {
      "cell_type": "code",
      "source": [
        "# Ans no 2 :-\n",
        "# Python searches for an attribute in an upward tree of attributes. it first searches for the attribute in its instance and then looks in the class it is\n",
        "# generated from, to all super classes listed in its class header\n"
      ],
      "metadata": {
        "id": "rPRC9h1Ohndt"
      },
      "execution_count": 2,
      "outputs": []
    },
    {
      "cell_type": "code",
      "source": [
        "# Ans no 3:- The differences between a class object and an instance object are:\n",
        "\n",
        "# Class is a template for creating objects whereas object is an instance of class\n",
        "# Seperate memory is allocated for each object whenever an object is created. but for a class this doesnot happens.\n",
        "# A Class is created once. Many objects are created using a class.\n",
        "# As Classes have no allocated memory. they can't be manipulated. but objects can be manipulated."
      ],
      "metadata": {
        "id": "pEBtom2Nh9nG"
      },
      "execution_count": 3,
      "outputs": []
    },
    {
      "cell_type": "code",
      "source": [
        "# Ans no 4:- Python Classes usually have three types of methods which are:\n",
        "\n",
        "# Instance Methods (object level methods)\n",
        "# Class Methods (class level methods)\n",
        "# Static Methods (general utility methods)\n",
        "# 'self' is the first argument for instance methods. which refers to the object itself\n",
        "# 'cls' is the first argument for class methods which refers to the class itself"
      ],
      "metadata": {
        "id": "Jz5jWSeoiKXE"
      },
      "execution_count": 4,
      "outputs": []
    },
    {
      "cell_type": "code",
      "source": [
        "# Ans no 5:-__init__ is a reseved method in python classes. It serves the role of a constructor in object oriented terminology. This method is called when\n",
        "#            an object is created from a class and it allows the class to initialize the attributes of the class"
      ],
      "metadata": {
        "id": "bfljDl6wiXgU"
      },
      "execution_count": 5,
      "outputs": []
    },
    {
      "cell_type": "code",
      "source": [
        "# Ans no 6:-To create a class instance, we need to call the class by its name and pass the arguments to the class, which its init method accepts.\n",
        "\n",
        "# Example: my_name = my_class(\"Mano\",\"vishnu\") Here my_name is an instance of class my_class with attributes \"Mano\" and \"Vishnu\"."
      ],
      "metadata": {
        "id": "SgKwhmBniput"
      },
      "execution_count": 6,
      "outputs": []
    },
    {
      "cell_type": "code",
      "source": [
        "# Ans no 7:-\n",
        " # 'class' keyword is used to created a 'class 'in python. The syntax to create a 'class' in python is class <classname>:\n",
        "\n",
        " # Example: 'class' Car: ➞ this creates a 'class' called Car"
      ],
      "metadata": {
        "id": "pjjPCDeti3nk"
      },
      "execution_count": 7,
      "outputs": []
    },
    {
      "cell_type": "code",
      "source": [
        "# Ans no 8:-Superclass/Parent class is given as a arugment to the child class\n",
        "\n",
        "# Example: class Employee(Person): Here child class Employee inherits attributes and methofs from Superclass/Parent Person"
      ],
      "metadata": {
        "id": "ilQ8W00UjW8u"
      },
      "execution_count": 8,
      "outputs": []
    }
  ]
}