{
  "nbformat": 4,
  "nbformat_minor": 0,
  "metadata": {
    "colab": {
      "provenance": []
    },
    "kernelspec": {
      "name": "python3",
      "display_name": "Python 3"
    },
    "language_info": {
      "name": "python"
    }
  },
  "cells": [
    {
      "cell_type": "code",
      "execution_count": 1,
      "metadata": {
        "id": "e2pSQZWPJZWT"
      },
      "outputs": [],
      "source": [
        "# Ans no 1:- Both the float and decimal types store numerical values in Python.\n",
        "\n",
        "# Use floats when convenience and speed matter. A float gives you an approximation of the number you declare.\n",
        "\n",
        "# Use decimals when precision matters. Decimals can suffer from their own precision issues, but generally, decimals are more precise than floats.\n",
        "# The performance difference between float and decimal, with Python 3, is not outlandish, and in my experience, the precision benefits of a decimal outweigh\n",
        "# the performance benefits of a float."
      ]
    },
    {
      "cell_type": "code",
      "source": [
        "# Ans no 2:- Both values are same but internal representation at storage Is different. Precsion differs, Decimal('1.200') gives internally 1.200 and\n",
        "#           Decimal('1.2') gives 1.2."
      ],
      "metadata": {
        "id": "SsUj9WaOKHqv"
      },
      "execution_count": 2,
      "outputs": []
    },
    {
      "cell_type": "code",
      "source": [
        "# Ans no 3:- Both values are checked to be equal , they only differ in precision."
      ],
      "metadata": {
        "id": "60iDXB2zKNWG"
      },
      "execution_count": 3,
      "outputs": []
    },
    {
      "cell_type": "code",
      "source": [
        "# Ans no 4:- Floating-point value is converted to Decimal format. Decimal can store float value with absolute precision. But when float value is given as\n",
        "#          Decimal object,it first has to be converted from floating point value which might already have rounding error.\n",
        "\n",
        "# Hence it is preferable to start a Decimal object with a string."
      ],
      "metadata": {
        "id": "5Bt0Co9VKTo3"
      },
      "execution_count": 4,
      "outputs": []
    },
    {
      "cell_type": "code",
      "source": [
        "# Ans no 5:-We can do it with use of Decimal()."
      ],
      "metadata": {
        "id": "YRqovFSUKgxG"
      },
      "execution_count": 5,
      "outputs": []
    },
    {
      "cell_type": "code",
      "source": [
        "# Ans no 6:-Arithmetic operfations like Adding,subtracting or multiplying a Decimal object by a floating-point value is generates an error.\n",
        "\n",
        "# To do these operations, the floating point has to be converted to a Decimal."
      ],
      "metadata": {
        "id": "C8VRDNPDKmq3"
      },
      "execution_count": null,
      "outputs": []
    },
    {
      "cell_type": "code",
      "source": [
        "# Ans no7:-: Value of 0.5 will be represented as ½."
      ],
      "metadata": {
        "id": "zHzKYg9ZK1L_"
      },
      "execution_count": 6,
      "outputs": []
    },
    {
      "cell_type": "code",
      "source": [
        "# Ans no 8:-a quantity that can be accurately expressed by the Decimal or Fraction classes but not by a floating-point value is irrational numbers,\n",
        "#          such as π (pi) or √2 (square root of 2)."
      ],
      "metadata": {
        "id": "DBdcXYL6K-U_"
      },
      "execution_count": null,
      "outputs": []
    },
    {
      "cell_type": "code",
      "source": [
        "# Ans no 9:- Both will be reduced to 1/2"
      ],
      "metadata": {
        "id": "rLdq6kFsLS6g"
      },
      "execution_count": 7,
      "outputs": []
    },
    {
      "cell_type": "code",
      "source": [
        "# Ans no 10:-Fraction class and integer type(int) are related in form of a container.It contains two ints, one the numerator and the other the denominator"
      ],
      "metadata": {
        "id": "mq5amdkVLXbh"
      },
      "execution_count": 8,
      "outputs": []
    }
  ]
}