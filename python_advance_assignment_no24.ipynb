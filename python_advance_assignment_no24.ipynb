{
  "nbformat": 4,
  "nbformat_minor": 0,
  "metadata": {
    "colab": {
      "provenance": []
    },
    "kernelspec": {
      "name": "python3",
      "display_name": "Python 3"
    },
    "language_info": {
      "name": "python"
    }
  },
  "cells": [
    {
      "cell_type": "code",
      "execution_count": 1,
      "metadata": {
        "id": "gI0MF7U1RcWv"
      },
      "outputs": [],
      "source": [
        "# Ans no 1:- Yes, it is permissible to use several import statements to import the same module. It is used in case when we have to import multiple functions\n",
        "#           from same module."
      ]
    },
    {
      "cell_type": "code",
      "source": [
        "# Ans no 2:- The following are some of a module's characteristics:\n",
        "\n",
        "# __name__ : It returns the name of the module\n",
        "# __doc__ : It denotes the documentation string line written in a module code.\n",
        "# __file__ : It holds the name and path of the module file from which it is loaded\n",
        "_# _dict__ : It return a dictionary object of module attributes, functions and other definitions and their respective values"
      ],
      "metadata": {
        "id": "DkNefQqCR2jn"
      },
      "execution_count": null,
      "outputs": []
    },
    {
      "cell_type": "code",
      "source": [
        "# Ans no 3:- Circular importing means importing the two modules in each other. If suppose we are wokring in MOD1.py file and it is importing some function\n",
        "#            say F2() from some other module say MOD2.PY file or we can do vice-versa. What will happen is: This will give an import error.\n",
        "\n",
        "# This is because when we import F2() function from module MOD2.py, then this will execute MOD2.py file. And in MOD2.py file there is an another statement\n",
        "# of importing MOD1.py module.\n",
        "\n",
        "# This will result in endless loop. To avoid this error just do one thingWe can use if __name__ == '__main__'\n",
        "\n",
        "# In the function, you can't directly refer to the function in the program. The addition of this sentence avoids the endless loop of the program ."
      ],
      "metadata": {
        "id": "vg7LP04aSBvY"
      },
      "execution_count": 2,
      "outputs": []
    },
    {
      "cell_type": "code",
      "source": [
        "# Ans no 4:- It provides list of all modules present in a library."
      ],
      "metadata": {
        "id": "qa73lpZkSOdv"
      },
      "execution_count": 3,
      "outputs": []
    },
    {
      "cell_type": "code",
      "source": [
        "# Ans no 5:- During the time of execution of the code if we want to refer the module in which we are working on then we uses name attribute. In that case\n",
        "#            it will return the module in which we are working on. Suppose if that moudle is being imported from some other module then name will have the\n",
        "#           name of that moudle from where the current module has been imported. The current module in which we are working is refer to the string __main __."
      ],
      "metadata": {
        "id": "okvIyVA8SS3f"
      },
      "execution_count": 4,
      "outputs": []
    },
    {
      "cell_type": "code",
      "source": [
        "# Ans no 6:-\n",
        "# Sequential Execution: The program counter helps ensure the sequential execution of the RPN script. It keeps track of the current instruction being\n",
        "# executed, allowing the interpreter to process each line of the script in order. This ensures that the operations are performed correctly and in the\n",
        "# intended sequence.\n",
        "\n",
        "# Control Flow: With a program counter, the RPN interpreter can support control flow structures like loops and conditional statements. By manipulating the\n",
        "#  program counter, the interpreter can jump to specific lines of the script based on conditions or execute loops by repeating certain sections of code.\n",
        "#  This enables more complex and flexible program logic in the RPN script.\n",
        "\n",
        "# Error Handling: The program counter can facilitate error handling within the RPN interpreter. If an error or exception occurs during script execution,\n",
        "# the program counter can help identify the line number or instruction where the error occurred. This information is valuable for error reporting,\n",
        "# debugging, and providing meaningful error messages to users.\n",
        "\n",
        "# Jump and Subroutine Calls: The program counter allows for jumps and subroutine calls within the RPN script. By manipulating the program counter, the\n",
        "# interpreter can branch to a specific line or call a subroutine at a different location in the script. This enables code reusability and modular\n",
        "# programming, as common routines can be defined once and called from various parts of the script.\n",
        "\n",
        "# Program Flow Control: The program counter provides control over the overall program flow. It allows for program initialization routines, setup procedures,\n",
        "#  and cleanup operations at the beginning or end of the script execution. By properly managing the program counter, the RPN interpreter can ensure that\n",
        "#  necessary initialization and cleanup steps are performed reliably."
      ],
      "metadata": {
        "id": "Q3ncy3f5Sc1X"
      },
      "execution_count": 5,
      "outputs": []
    },
    {
      "cell_type": "code",
      "source": [
        "# Ans no 7:-\n",
        "#Numeric Values: The language should support numeric values as the fundamental data type. This includes integers, floating-point numbers, and possibly other\n",
        "# numeric types like decimals or complex numbers.\n",
        "\n",
        "# Arithmetic Operators: You would need arithmetic operators such as addition (+), subtraction (-), multiplication (*), division (/), and exponentiation (^).\n",
        "#  These operators allow for basic mathematical computations.\n",
        "\n",
        "# Stack Operations: RPN operates using a stack data structure. Therefore, you would need stack operations like push and pop to manipulate values on the\n",
        "# stack. Push adds a value to the top of the stack, while pop removes and retrieves the topmost value from the stack.\n",
        "\n",
        "# Conditional Statements: To enable decision-making, you would need conditional statements like if-else or switch statements. These allow for branching\n",
        "#  based on certain conditions.\n",
        "\n",
        "# Loops: The language should include loop constructs such as for, while, or do-while loops. These enable repetitive execution of code blocks until certain\n",
        "#  conditions are met.\n",
        "\n",
        "# Variables: The ability to declare and assign values to variables is crucial for storing and manipulating data. This would involve statements like variable\n",
        "#  declaration and assignment.\n",
        "\n",
        "# Input and Output: The language should support input and output operations to interact with the user or external devices. This includes reading user input\n",
        "#  and displaying output on the screen or writing to files.\n",
        "\n",
        "# Functions or Subroutines: The capability to define and use functions or subroutines is important for code modularization and reusability. This involves\n",
        "# defining reusable code blocks with parameters and possibly return values."
      ],
      "metadata": {
        "id": "zKpujOsYTDBX"
      },
      "execution_count": 6,
      "outputs": []
    }
  ]
}